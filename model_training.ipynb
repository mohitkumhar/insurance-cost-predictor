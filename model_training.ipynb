{
 "cells": [
  {
   "cell_type": "code",
   "execution_count": 1,
   "id": "80065aee-7491-4e3d-ade4-3c4ba93cb1b1",
   "metadata": {},
   "outputs": [],
   "source": [
    "import pandas as pd"
   ]
  },
  {
   "cell_type": "code",
   "execution_count": 2,
   "id": "a2bbca6c-8447-4a05-9c64-cb7f03bf80d6",
   "metadata": {},
   "outputs": [],
   "source": [
    "from sklearn.model_selection import train_test_split\n",
    "from sklearn.preprocessing import StandardScaler, OneHotEncoder, LabelEncoder"
   ]
  },
  {
   "cell_type": "code",
   "execution_count": 3,
   "id": "dacedb37-74fd-42d2-90a4-0fbf36ad4cb2",
   "metadata": {},
   "outputs": [],
   "source": [
    "from tensorflow.keras.models import Sequential\n",
    "from tensorflow.keras.layers import Dense, BatchNormalization\n",
    "from tensorflow.keras.optimizers import Adam\n",
    "from tensorflow.keras.models import save_model, load_model"
   ]
  },
  {
   "cell_type": "code",
   "execution_count": 4,
   "id": "172b8f1d-86d9-4e61-8acb-1031a4daced7",
   "metadata": {},
   "outputs": [],
   "source": [
    "from matplotlib import pyplot as plt\n",
    "import seaborn as sns"
   ]
  },
  {
   "cell_type": "code",
   "execution_count": 5,
   "id": "008c94a3-4756-40a8-86cc-a3b79d13b32d",
   "metadata": {},
   "outputs": [],
   "source": [
    "import pickle"
   ]
  },
  {
   "cell_type": "code",
   "execution_count": 6,
   "id": "240a5d91-0224-464d-86ac-ac50ef277210",
   "metadata": {},
   "outputs": [],
   "source": [
    "df = pd.read_csv('insurance.csv')"
   ]
  },
  {
   "cell_type": "code",
   "execution_count": 7,
   "id": "674385d7-e929-4fb8-b69b-fdb4f9076188",
   "metadata": {},
   "outputs": [
    {
     "data": {
      "text/html": [
       "<div>\n",
       "<style scoped>\n",
       "    .dataframe tbody tr th:only-of-type {\n",
       "        vertical-align: middle;\n",
       "    }\n",
       "\n",
       "    .dataframe tbody tr th {\n",
       "        vertical-align: top;\n",
       "    }\n",
       "\n",
       "    .dataframe thead th {\n",
       "        text-align: right;\n",
       "    }\n",
       "</style>\n",
       "<table border=\"1\" class=\"dataframe\">\n",
       "  <thead>\n",
       "    <tr style=\"text-align: right;\">\n",
       "      <th></th>\n",
       "      <th>age</th>\n",
       "      <th>sex</th>\n",
       "      <th>bmi</th>\n",
       "      <th>children</th>\n",
       "      <th>smoker</th>\n",
       "      <th>region</th>\n",
       "      <th>charges</th>\n",
       "    </tr>\n",
       "  </thead>\n",
       "  <tbody>\n",
       "    <tr>\n",
       "      <th>0</th>\n",
       "      <td>19</td>\n",
       "      <td>female</td>\n",
       "      <td>27.900</td>\n",
       "      <td>0</td>\n",
       "      <td>yes</td>\n",
       "      <td>southwest</td>\n",
       "      <td>16884.92400</td>\n",
       "    </tr>\n",
       "    <tr>\n",
       "      <th>1</th>\n",
       "      <td>18</td>\n",
       "      <td>male</td>\n",
       "      <td>33.770</td>\n",
       "      <td>1</td>\n",
       "      <td>no</td>\n",
       "      <td>southeast</td>\n",
       "      <td>1725.55230</td>\n",
       "    </tr>\n",
       "    <tr>\n",
       "      <th>2</th>\n",
       "      <td>28</td>\n",
       "      <td>male</td>\n",
       "      <td>33.000</td>\n",
       "      <td>3</td>\n",
       "      <td>no</td>\n",
       "      <td>southeast</td>\n",
       "      <td>4449.46200</td>\n",
       "    </tr>\n",
       "    <tr>\n",
       "      <th>3</th>\n",
       "      <td>33</td>\n",
       "      <td>male</td>\n",
       "      <td>22.705</td>\n",
       "      <td>0</td>\n",
       "      <td>no</td>\n",
       "      <td>northwest</td>\n",
       "      <td>21984.47061</td>\n",
       "    </tr>\n",
       "    <tr>\n",
       "      <th>4</th>\n",
       "      <td>32</td>\n",
       "      <td>male</td>\n",
       "      <td>28.880</td>\n",
       "      <td>0</td>\n",
       "      <td>no</td>\n",
       "      <td>northwest</td>\n",
       "      <td>3866.85520</td>\n",
       "    </tr>\n",
       "    <tr>\n",
       "      <th>...</th>\n",
       "      <td>...</td>\n",
       "      <td>...</td>\n",
       "      <td>...</td>\n",
       "      <td>...</td>\n",
       "      <td>...</td>\n",
       "      <td>...</td>\n",
       "      <td>...</td>\n",
       "    </tr>\n",
       "    <tr>\n",
       "      <th>1333</th>\n",
       "      <td>50</td>\n",
       "      <td>male</td>\n",
       "      <td>30.970</td>\n",
       "      <td>3</td>\n",
       "      <td>no</td>\n",
       "      <td>northwest</td>\n",
       "      <td>10600.54830</td>\n",
       "    </tr>\n",
       "    <tr>\n",
       "      <th>1334</th>\n",
       "      <td>18</td>\n",
       "      <td>female</td>\n",
       "      <td>31.920</td>\n",
       "      <td>0</td>\n",
       "      <td>no</td>\n",
       "      <td>northeast</td>\n",
       "      <td>2205.98080</td>\n",
       "    </tr>\n",
       "    <tr>\n",
       "      <th>1335</th>\n",
       "      <td>18</td>\n",
       "      <td>female</td>\n",
       "      <td>36.850</td>\n",
       "      <td>0</td>\n",
       "      <td>no</td>\n",
       "      <td>southeast</td>\n",
       "      <td>1629.83350</td>\n",
       "    </tr>\n",
       "    <tr>\n",
       "      <th>1336</th>\n",
       "      <td>21</td>\n",
       "      <td>female</td>\n",
       "      <td>25.800</td>\n",
       "      <td>0</td>\n",
       "      <td>no</td>\n",
       "      <td>southwest</td>\n",
       "      <td>2007.94500</td>\n",
       "    </tr>\n",
       "    <tr>\n",
       "      <th>1337</th>\n",
       "      <td>61</td>\n",
       "      <td>female</td>\n",
       "      <td>29.070</td>\n",
       "      <td>0</td>\n",
       "      <td>yes</td>\n",
       "      <td>northwest</td>\n",
       "      <td>29141.36030</td>\n",
       "    </tr>\n",
       "  </tbody>\n",
       "</table>\n",
       "<p>1338 rows × 7 columns</p>\n",
       "</div>"
      ],
      "text/plain": [
       "      age     sex     bmi  children smoker     region      charges\n",
       "0      19  female  27.900         0    yes  southwest  16884.92400\n",
       "1      18    male  33.770         1     no  southeast   1725.55230\n",
       "2      28    male  33.000         3     no  southeast   4449.46200\n",
       "3      33    male  22.705         0     no  northwest  21984.47061\n",
       "4      32    male  28.880         0     no  northwest   3866.85520\n",
       "...   ...     ...     ...       ...    ...        ...          ...\n",
       "1333   50    male  30.970         3     no  northwest  10600.54830\n",
       "1334   18  female  31.920         0     no  northeast   2205.98080\n",
       "1335   18  female  36.850         0     no  southeast   1629.83350\n",
       "1336   21  female  25.800         0     no  southwest   2007.94500\n",
       "1337   61  female  29.070         0    yes  northwest  29141.36030\n",
       "\n",
       "[1338 rows x 7 columns]"
      ]
     },
     "execution_count": 7,
     "metadata": {},
     "output_type": "execute_result"
    }
   ],
   "source": [
    "df"
   ]
  },
  {
   "cell_type": "code",
   "execution_count": 8,
   "id": "5a0aa86a-43e1-47cc-92ed-d4ab706d33a9",
   "metadata": {},
   "outputs": [
    {
     "data": {
      "text/plain": [
       "(1338, 7)"
      ]
     },
     "execution_count": 8,
     "metadata": {},
     "output_type": "execute_result"
    }
   ],
   "source": [
    "df.shape"
   ]
  },
  {
   "cell_type": "code",
   "execution_count": 9,
   "id": "1a6e337e-ec2f-4192-bc4e-741df26f6eb6",
   "metadata": {},
   "outputs": [
    {
     "name": "stdout",
     "output_type": "stream",
     "text": [
      "<class 'pandas.core.frame.DataFrame'>\n",
      "RangeIndex: 1338 entries, 0 to 1337\n",
      "Data columns (total 7 columns):\n",
      " #   Column    Non-Null Count  Dtype  \n",
      "---  ------    --------------  -----  \n",
      " 0   age       1338 non-null   int64  \n",
      " 1   sex       1338 non-null   object \n",
      " 2   bmi       1338 non-null   float64\n",
      " 3   children  1338 non-null   int64  \n",
      " 4   smoker    1338 non-null   object \n",
      " 5   region    1338 non-null   object \n",
      " 6   charges   1338 non-null   float64\n",
      "dtypes: float64(2), int64(2), object(3)\n",
      "memory usage: 73.3+ KB\n"
     ]
    }
   ],
   "source": [
    "df.info()"
   ]
  },
  {
   "cell_type": "code",
   "execution_count": 10,
   "id": "f388496f-f165-41b4-97f0-ae0afcd2747c",
   "metadata": {},
   "outputs": [
    {
     "data": {
      "text/plain": [
       "array(['southwest', 'southeast', 'northwest', 'northeast'], dtype=object)"
      ]
     },
     "execution_count": 10,
     "metadata": {},
     "output_type": "execute_result"
    }
   ],
   "source": [
    "df['region'].unique()"
   ]
  },
  {
   "cell_type": "code",
   "execution_count": 11,
   "id": "9361dc4e-0489-44ad-b13f-3f1f360715e4",
   "metadata": {},
   "outputs": [
    {
     "data": {
      "text/plain": [
       "age         0\n",
       "sex         0\n",
       "bmi         0\n",
       "children    0\n",
       "smoker      0\n",
       "region      0\n",
       "charges     0\n",
       "dtype: int64"
      ]
     },
     "execution_count": 11,
     "metadata": {},
     "output_type": "execute_result"
    }
   ],
   "source": [
    "df.isnull().sum()"
   ]
  },
  {
   "cell_type": "code",
   "execution_count": 12,
   "id": "8a3a111d-346d-4f33-b815-16c2b4f585ce",
   "metadata": {},
   "outputs": [
    {
     "data": {
      "text/plain": [
       "1"
      ]
     },
     "execution_count": 12,
     "metadata": {},
     "output_type": "execute_result"
    }
   ],
   "source": [
    "df.duplicated().sum()"
   ]
  },
  {
   "cell_type": "code",
   "execution_count": 13,
   "id": "7537468f-642e-47c0-a4d4-dc0258d16cb8",
   "metadata": {},
   "outputs": [],
   "source": [
    "df.drop_duplicates(inplace=True)"
   ]
  },
  {
   "cell_type": "code",
   "execution_count": 14,
   "id": "8f25d5fb-1437-4abe-9839-3ebd848f7928",
   "metadata": {},
   "outputs": [
    {
     "data": {
      "text/plain": [
       "0"
      ]
     },
     "execution_count": 14,
     "metadata": {},
     "output_type": "execute_result"
    }
   ],
   "source": [
    "df.duplicated().sum()"
   ]
  },
  {
   "cell_type": "markdown",
   "id": "41c329df-efdb-4e84-ac5b-42b9304f1865",
   "metadata": {},
   "source": [
    "# Data Visualization"
   ]
  },
  {
   "cell_type": "code",
   "execution_count": 15,
   "id": "4024f172-ba71-455c-a42d-17d14ed970f2",
   "metadata": {},
   "outputs": [
    {
     "data": {
      "text/html": [
       "<div>\n",
       "<style scoped>\n",
       "    .dataframe tbody tr th:only-of-type {\n",
       "        vertical-align: middle;\n",
       "    }\n",
       "\n",
       "    .dataframe tbody tr th {\n",
       "        vertical-align: top;\n",
       "    }\n",
       "\n",
       "    .dataframe thead th {\n",
       "        text-align: right;\n",
       "    }\n",
       "</style>\n",
       "<table border=\"1\" class=\"dataframe\">\n",
       "  <thead>\n",
       "    <tr style=\"text-align: right;\">\n",
       "      <th></th>\n",
       "      <th>age</th>\n",
       "      <th>sex</th>\n",
       "      <th>bmi</th>\n",
       "      <th>children</th>\n",
       "      <th>smoker</th>\n",
       "      <th>region</th>\n",
       "      <th>charges</th>\n",
       "    </tr>\n",
       "  </thead>\n",
       "  <tbody>\n",
       "    <tr>\n",
       "      <th>0</th>\n",
       "      <td>19</td>\n",
       "      <td>female</td>\n",
       "      <td>27.900</td>\n",
       "      <td>0</td>\n",
       "      <td>yes</td>\n",
       "      <td>southwest</td>\n",
       "      <td>16884.92400</td>\n",
       "    </tr>\n",
       "    <tr>\n",
       "      <th>1</th>\n",
       "      <td>18</td>\n",
       "      <td>male</td>\n",
       "      <td>33.770</td>\n",
       "      <td>1</td>\n",
       "      <td>no</td>\n",
       "      <td>southeast</td>\n",
       "      <td>1725.55230</td>\n",
       "    </tr>\n",
       "    <tr>\n",
       "      <th>2</th>\n",
       "      <td>28</td>\n",
       "      <td>male</td>\n",
       "      <td>33.000</td>\n",
       "      <td>3</td>\n",
       "      <td>no</td>\n",
       "      <td>southeast</td>\n",
       "      <td>4449.46200</td>\n",
       "    </tr>\n",
       "    <tr>\n",
       "      <th>3</th>\n",
       "      <td>33</td>\n",
       "      <td>male</td>\n",
       "      <td>22.705</td>\n",
       "      <td>0</td>\n",
       "      <td>no</td>\n",
       "      <td>northwest</td>\n",
       "      <td>21984.47061</td>\n",
       "    </tr>\n",
       "    <tr>\n",
       "      <th>4</th>\n",
       "      <td>32</td>\n",
       "      <td>male</td>\n",
       "      <td>28.880</td>\n",
       "      <td>0</td>\n",
       "      <td>no</td>\n",
       "      <td>northwest</td>\n",
       "      <td>3866.85520</td>\n",
       "    </tr>\n",
       "  </tbody>\n",
       "</table>\n",
       "</div>"
      ],
      "text/plain": [
       "   age     sex     bmi  children smoker     region      charges\n",
       "0   19  female  27.900         0    yes  southwest  16884.92400\n",
       "1   18    male  33.770         1     no  southeast   1725.55230\n",
       "2   28    male  33.000         3     no  southeast   4449.46200\n",
       "3   33    male  22.705         0     no  northwest  21984.47061\n",
       "4   32    male  28.880         0     no  northwest   3866.85520"
      ]
     },
     "execution_count": 15,
     "metadata": {},
     "output_type": "execute_result"
    }
   ],
   "source": [
    "df.head()"
   ]
  },
  {
   "cell_type": "code",
   "execution_count": 16,
   "id": "066409b4-f2e1-4c27-8016-aab6f556b541",
   "metadata": {},
   "outputs": [
    {
     "data": {
      "image/png": "[encoded data removed]",
      "text/plain": [
       "<Figure size 1200x900 with 1 Axes>"
      ]
     },
     "metadata": {},
     "output_type": "display_data"
    }
   ],
   "source": [
    "plt.figure(figsize=(12,9))\n",
    "sns.barplot(x='age', y='charges', data=df)\n",
    "plt.show()"
   ]
  },
  {
   "cell_type": "code",
   "execution_count": 17,
   "id": "2994def9-8bb6-45b8-be49-cd96ac36d09d",
   "metadata": {},
   "outputs": [
    {
     "data": {
      "text/plain": [
       "<Axes: xlabel='bmi', ylabel='charges'>"
      ]
     },
     "execution_count": 17,
     "metadata": {},
     "output_type": "execute_result"
    },
    {
     "data": {
      "image/png": "[encoded data removed]",
      "text/plain": [
       "<Figure size 640x480 with 1 Axes>"
      ]
     },
     "metadata": {},
     "output_type": "display_data"
    }
   ],
   "source": [
    "sns.scatterplot(x='bmi', y='charges', data=df)"
   ]
  },
  {
   "cell_type": "code",
   "execution_count": 18,
   "id": "bb75d313-1cd3-405d-b9d8-affbc32c51a4",
   "metadata": {},
   "outputs": [
    {
     "data": {
      "text/plain": [
       "<Axes: xlabel='children', ylabel='charges'>"
      ]
     },
     "execution_count": 18,
     "metadata": {},
     "output_type": "execute_result"
    },
    {
     "data": {
      "image/png": "[encoded data removed]",
      "text/plain": [
       "<Figure size 640x480 with 1 Axes>"
      ]
     },
     "metadata": {},
     "output_type": "display_data"
    }
   ],
   "source": [
    "sns.boxplot(x='children', y='charges', data=df)"
   ]
  },
  {
   "cell_type": "code",
   "execution_count": 19,
   "id": "c6e926db-68fb-4f54-b818-6abe9712d33b",
   "metadata": {},
   "outputs": [
    {
     "data": {
      "text/plain": [
       "<Axes: xlabel='smoker', ylabel='charges'>"
      ]
     },
     "execution_count": 19,
     "metadata": {},
     "output_type": "execute_result"
    },
    {
     "data": {
      "image/png": "[encoded data removed]",
      "text/plain": [
       "<Figure size 640x480 with 1 Axes>"
      ]
     },
     "metadata": {},
     "output_type": "display_data"
    }
   ],
   "source": [
    "sns.barplot(x='smoker', y='charges', data=df, hue='sex')"
   ]
  },
  {
   "cell_type": "code",
   "execution_count": 20,
   "id": "01dd3bcc-7114-42f1-8bec-3df9c0971042",
   "metadata": {},
   "outputs": [
    {
     "data": {
      "text/plain": [
       "(1337, 7)"
      ]
     },
     "execution_count": 20,
     "metadata": {},
     "output_type": "execute_result"
    }
   ],
   "source": [
    "df.shape"
   ]
  },
  {
   "cell_type": "code",
   "execution_count": null,
   "id": "0da4b45e-c55c-4ad7-b007-5f63ea75315a",
   "metadata": {},
   "outputs": [],
   "source": []
  },
  {
   "cell_type": "markdown",
   "id": "12c22eed-108c-42e7-ad7b-f423f53d6bab",
   "metadata": {},
   "source": [
    "# Encoding"
   ]
  },
  {
   "cell_type": "code",
   "execution_count": 21,
   "id": "27f44521-690a-4c61-88d8-1111feaed459",
   "metadata": {},
   "outputs": [],
   "source": [
    "ohe_sex = OneHotEncoder(drop='first', handle_unknown='ignore')\n",
    "ohe_smoke = OneHotEncoder(drop='first', handle_unknown='ignore')"
   ]
  },
  {
   "cell_type": "code",
   "execution_count": 22,
   "id": "b840f712-7f4a-4b93-a0f8-37f2b8a6b2c8",
   "metadata": {},
   "outputs": [],
   "source": [
    "le = LabelEncoder()"
   ]
  },
  {
   "cell_type": "code",
   "execution_count": 23,
   "id": "9e2938c9-861f-4fe2-8703-2b45fa40114a",
   "metadata": {},
   "outputs": [],
   "source": [
    "encoded_sex = ohe_sex.fit_transform(df[['sex']]).toarray()\n",
    "encoded_smoker = ohe_smoke.fit_transform(df[['smoker']]).toarray()\n",
    "encoded_region = le.fit_transform(df['region'])"
   ]
  },
  {
   "cell_type": "code",
   "execution_count": null,
   "id": "c8e07cde-9868-472a-8c82-1d645b7126f6",
   "metadata": {},
   "outputs": [],
   "source": []
  },
  {
   "cell_type": "code",
   "execution_count": 24,
   "id": "76fdedde-8c36-4115-8f1e-7f8be4a554fd",
   "metadata": {},
   "outputs": [],
   "source": [
    "df['sex'] = encoded_sex\n",
    "df['smoker'] = encoded_smoker\n",
    "df['region'] = encoded_region"
   ]
  },
  {
   "cell_type": "code",
   "execution_count": 25,
   "id": "6d6ea051-6834-4024-8c76-d22e21b94d4e",
   "metadata": {},
   "outputs": [],
   "source": [
    "pickle.dump(le, open('label.pkl', 'wb'))\n",
    "pickle.dump(ohe_sex, open('ohe_sex.pkl', 'wb'))\n",
    "pickle.dump(ohe_smoke, open('ohe_smoker.pkl', 'wb'))"
   ]
  },
  {
   "cell_type": "code",
   "execution_count": 26,
   "id": "932f6023-2250-480d-90ce-d208a4ed56b9",
   "metadata": {},
   "outputs": [
    {
     "data": {
      "text/html": [
       "<div>\n",
       "<style scoped>\n",
       "    .dataframe tbody tr th:only-of-type {\n",
       "        vertical-align: middle;\n",
       "    }\n",
       "\n",
       "    .dataframe tbody tr th {\n",
       "        vertical-align: top;\n",
       "    }\n",
       "\n",
       "    .dataframe thead th {\n",
       "        text-align: right;\n",
       "    }\n",
       "</style>\n",
       "<table border=\"1\" class=\"dataframe\">\n",
       "  <thead>\n",
       "    <tr style=\"text-align: right;\">\n",
       "      <th></th>\n",
       "      <th>age</th>\n",
       "      <th>sex</th>\n",
       "      <th>bmi</th>\n",
       "      <th>children</th>\n",
       "      <th>smoker</th>\n",
       "      <th>region</th>\n",
       "      <th>charges</th>\n",
       "    </tr>\n",
       "  </thead>\n",
       "  <tbody>\n",
       "    <tr>\n",
       "      <th>0</th>\n",
       "      <td>19</td>\n",
       "      <td>0.0</td>\n",
       "      <td>27.900</td>\n",
       "      <td>0</td>\n",
       "      <td>1.0</td>\n",
       "      <td>3</td>\n",
       "      <td>16884.92400</td>\n",
       "    </tr>\n",
       "    <tr>\n",
       "      <th>1</th>\n",
       "      <td>18</td>\n",
       "      <td>1.0</td>\n",
       "      <td>33.770</td>\n",
       "      <td>1</td>\n",
       "      <td>0.0</td>\n",
       "      <td>2</td>\n",
       "      <td>1725.55230</td>\n",
       "    </tr>\n",
       "    <tr>\n",
       "      <th>2</th>\n",
       "      <td>28</td>\n",
       "      <td>1.0</td>\n",
       "      <td>33.000</td>\n",
       "      <td>3</td>\n",
       "      <td>0.0</td>\n",
       "      <td>2</td>\n",
       "      <td>4449.46200</td>\n",
       "    </tr>\n",
       "    <tr>\n",
       "      <th>3</th>\n",
       "      <td>33</td>\n",
       "      <td>1.0</td>\n",
       "      <td>22.705</td>\n",
       "      <td>0</td>\n",
       "      <td>0.0</td>\n",
       "      <td>1</td>\n",
       "      <td>21984.47061</td>\n",
       "    </tr>\n",
       "    <tr>\n",
       "      <th>4</th>\n",
       "      <td>32</td>\n",
       "      <td>1.0</td>\n",
       "      <td>28.880</td>\n",
       "      <td>0</td>\n",
       "      <td>0.0</td>\n",
       "      <td>1</td>\n",
       "      <td>3866.85520</td>\n",
       "    </tr>\n",
       "    <tr>\n",
       "      <th>5</th>\n",
       "      <td>31</td>\n",
       "      <td>0.0</td>\n",
       "      <td>25.740</td>\n",
       "      <td>0</td>\n",
       "      <td>0.0</td>\n",
       "      <td>2</td>\n",
       "      <td>3756.62160</td>\n",
       "    </tr>\n",
       "    <tr>\n",
       "      <th>6</th>\n",
       "      <td>46</td>\n",
       "      <td>0.0</td>\n",
       "      <td>33.440</td>\n",
       "      <td>1</td>\n",
       "      <td>0.0</td>\n",
       "      <td>2</td>\n",
       "      <td>8240.58960</td>\n",
       "    </tr>\n",
       "    <tr>\n",
       "      <th>7</th>\n",
       "      <td>37</td>\n",
       "      <td>0.0</td>\n",
       "      <td>27.740</td>\n",
       "      <td>3</td>\n",
       "      <td>0.0</td>\n",
       "      <td>1</td>\n",
       "      <td>7281.50560</td>\n",
       "    </tr>\n",
       "    <tr>\n",
       "      <th>8</th>\n",
       "      <td>37</td>\n",
       "      <td>1.0</td>\n",
       "      <td>29.830</td>\n",
       "      <td>2</td>\n",
       "      <td>0.0</td>\n",
       "      <td>0</td>\n",
       "      <td>6406.41070</td>\n",
       "    </tr>\n",
       "    <tr>\n",
       "      <th>9</th>\n",
       "      <td>60</td>\n",
       "      <td>0.0</td>\n",
       "      <td>25.840</td>\n",
       "      <td>0</td>\n",
       "      <td>0.0</td>\n",
       "      <td>1</td>\n",
       "      <td>28923.13692</td>\n",
       "    </tr>\n",
       "  </tbody>\n",
       "</table>\n",
       "</div>"
      ],
      "text/plain": [
       "   age  sex     bmi  children  smoker  region      charges\n",
       "0   19  0.0  27.900         0     1.0       3  16884.92400\n",
       "1   18  1.0  33.770         1     0.0       2   1725.55230\n",
       "2   28  1.0  33.000         3     0.0       2   4449.46200\n",
       "3   33  1.0  22.705         0     0.0       1  21984.47061\n",
       "4   32  1.0  28.880         0     0.0       1   3866.85520\n",
       "5   31  0.0  25.740         0     0.0       2   3756.62160\n",
       "6   46  0.0  33.440         1     0.0       2   8240.58960\n",
       "7   37  0.0  27.740         3     0.0       1   7281.50560\n",
       "8   37  1.0  29.830         2     0.0       0   6406.41070\n",
       "9   60  0.0  25.840         0     0.0       1  28923.13692"
      ]
     },
     "execution_count": 26,
     "metadata": {},
     "output_type": "execute_result"
    }
   ],
   "source": [
    "df.head(10)"
   ]
  },
  {
   "cell_type": "code",
   "execution_count": 27,
   "id": "66f55cc1-7f6b-4133-83c6-8e53cdf7ad0a",
   "metadata": {},
   "outputs": [],
   "source": [
    "df['sex'] = df['sex'].astype('int')\n",
    "df['smoker'] = df['smoker'].astype('int')"
   ]
  },
  {
   "cell_type": "markdown",
   "id": "75b1cba3-dfa5-45cc-af15-456c2f64b2c0",
   "metadata": {},
   "source": [
    "# Train Test Split"
   ]
  },
  {
   "cell_type": "code",
   "execution_count": null,
   "id": "53c9a912-626c-490d-87c6-878262bd33e1",
   "metadata": {},
   "outputs": [],
   "source": []
  },
  {
   "cell_type": "code",
   "execution_count": 28,
   "id": "fa406735-5c7d-4ec9-b117-851dcddfabcb",
   "metadata": {},
   "outputs": [],
   "source": [
    "X = df.iloc[:,:-1]\n",
    "y = df.iloc[:,-1]"
   ]
  },
  {
   "cell_type": "code",
   "execution_count": 29,
   "id": "f231e40c-5b75-45f7-9f12-80a306ae6381",
   "metadata": {},
   "outputs": [],
   "source": [
    "X_train, X_test, y_train, y_test = train_test_split(X, y, test_size=0.2, random_state=42)"
   ]
  },
  {
   "cell_type": "code",
   "execution_count": 30,
   "id": "2d60a2bd-1715-43be-9d13-2394b5db243f",
   "metadata": {},
   "outputs": [
    {
     "data": {
      "text/plain": [
       "(1069, 6)"
      ]
     },
     "execution_count": 30,
     "metadata": {},
     "output_type": "execute_result"
    }
   ],
   "source": [
    "X_train.shape"
   ]
  },
  {
   "cell_type": "code",
   "execution_count": 31,
   "id": "6faa3e83-7452-4d8c-a77f-e26151ba1549",
   "metadata": {},
   "outputs": [
    {
     "data": {
      "text/plain": [
       "(268, 6)"
      ]
     },
     "execution_count": 31,
     "metadata": {},
     "output_type": "execute_result"
    }
   ],
   "source": [
    "X_test.shape"
   ]
  },
  {
   "cell_type": "code",
   "execution_count": 32,
   "id": "dcb60e47-1bd6-4250-986a-f1f46e3614b8",
   "metadata": {},
   "outputs": [
    {
     "data": {
      "text/html": [
       "<div>\n",
       "<style scoped>\n",
       "    .dataframe tbody tr th:only-of-type {\n",
       "        vertical-align: middle;\n",
       "    }\n",
       "\n",
       "    .dataframe tbody tr th {\n",
       "        vertical-align: top;\n",
       "    }\n",
       "\n",
       "    .dataframe thead th {\n",
       "        text-align: right;\n",
       "    }\n",
       "</style>\n",
       "<table border=\"1\" class=\"dataframe\">\n",
       "  <thead>\n",
       "    <tr style=\"text-align: right;\">\n",
       "      <th></th>\n",
       "      <th>age</th>\n",
       "      <th>sex</th>\n",
       "      <th>bmi</th>\n",
       "      <th>children</th>\n",
       "      <th>smoker</th>\n",
       "      <th>region</th>\n",
       "    </tr>\n",
       "  </thead>\n",
       "  <tbody>\n",
       "    <tr>\n",
       "      <th>1114</th>\n",
       "      <td>23</td>\n",
       "      <td>1</td>\n",
       "      <td>24.510</td>\n",
       "      <td>0</td>\n",
       "      <td>0</td>\n",
       "      <td>0</td>\n",
       "    </tr>\n",
       "    <tr>\n",
       "      <th>968</th>\n",
       "      <td>21</td>\n",
       "      <td>1</td>\n",
       "      <td>25.745</td>\n",
       "      <td>2</td>\n",
       "      <td>0</td>\n",
       "      <td>0</td>\n",
       "    </tr>\n",
       "    <tr>\n",
       "      <th>599</th>\n",
       "      <td>52</td>\n",
       "      <td>0</td>\n",
       "      <td>37.525</td>\n",
       "      <td>2</td>\n",
       "      <td>0</td>\n",
       "      <td>1</td>\n",
       "    </tr>\n",
       "    <tr>\n",
       "      <th>170</th>\n",
       "      <td>63</td>\n",
       "      <td>1</td>\n",
       "      <td>41.470</td>\n",
       "      <td>0</td>\n",
       "      <td>0</td>\n",
       "      <td>2</td>\n",
       "    </tr>\n",
       "    <tr>\n",
       "      <th>275</th>\n",
       "      <td>47</td>\n",
       "      <td>0</td>\n",
       "      <td>26.600</td>\n",
       "      <td>2</td>\n",
       "      <td>0</td>\n",
       "      <td>0</td>\n",
       "    </tr>\n",
       "  </tbody>\n",
       "</table>\n",
       "</div>"
      ],
      "text/plain": [
       "      age  sex     bmi  children  smoker  region\n",
       "1114   23    1  24.510         0       0       0\n",
       "968    21    1  25.745         2       0       0\n",
       "599    52    0  37.525         2       0       1\n",
       "170    63    1  41.470         0       0       2\n",
       "275    47    0  26.600         2       0       0"
      ]
     },
     "execution_count": 32,
     "metadata": {},
     "output_type": "execute_result"
    }
   ],
   "source": [
    "X_train.head()"
   ]
  },
  {
   "cell_type": "code",
   "execution_count": 33,
   "id": "9977ca67-9339-4067-b5af-ce8ea892ced4",
   "metadata": {},
   "outputs": [],
   "source": [
    "scaler_x = StandardScaler()\n",
    "scaler_y = StandardScaler()"
   ]
  },
  {
   "cell_type": "code",
   "execution_count": 34,
   "id": "c4fac27e-2c63-4a72-b79e-599b3587ee5c",
   "metadata": {
    "scrolled": true
   },
   "outputs": [],
   "source": [
    "X_train_scaler = scaler_x.fit_transform(X_train)\n",
    "y_train_scaler = scaler_y.fit_transform(y_train.values.reshape(-1, 1))"
   ]
  },
  {
   "cell_type": "code",
   "execution_count": 35,
   "id": "964a32a1-0a4d-4539-a61e-4f8ee56791ca",
   "metadata": {},
   "outputs": [],
   "source": [
    "X_test_scaler = scaler_x.fit_transform(X_test)\n",
    "y_test_scaler = scaler_y.fit_transform(y_test.values.reshape(-1, 1))"
   ]
  },
  {
   "cell_type": "code",
   "execution_count": 36,
   "id": "aa5fadb1-50ee-42b4-b653-d1a5a74f3cbb",
   "metadata": {},
   "outputs": [],
   "source": [
    "pickle.dump(scaler_x, open('scaler_x.pkl', 'wb')) \n",
    "pickle.dump(scaler_y, open('scaler_y.pkl', 'wb')) "
   ]
  },
  {
   "cell_type": "code",
   "execution_count": 37,
   "id": "2e091fb1-4f10-4730-b904-19e6f15f555b",
   "metadata": {},
   "outputs": [
    {
     "data": {
      "text/plain": [
       "array([-1.1576804 ,  0.97140947, -0.99692768, -0.90790804, -0.50029231,\n",
       "       -1.38394601])"
      ]
     },
     "execution_count": 37,
     "metadata": {},
     "output_type": "execute_result"
    }
   ],
   "source": [
    "X_train_scaler[0]"
   ]
  },
  {
   "cell_type": "code",
   "execution_count": 38,
   "id": "54677151-da04-4425-b6b0-6cacaaac84c5",
   "metadata": {},
   "outputs": [
    {
     "data": {
      "text/plain": [
       "array([[-0.90881619],\n",
       "       [-0.83328687],\n",
       "       [ 1.74700229],\n",
       "       ...,\n",
       "       [-0.94567747],\n",
       "       [-0.50244288],\n",
       "       [-0.6147893 ]])"
      ]
     },
     "execution_count": 38,
     "metadata": {},
     "output_type": "execute_result"
    }
   ],
   "source": [
    "y_train_scaler"
   ]
  },
  {
   "cell_type": "markdown",
   "id": "337dbedc-ade9-41d0-801c-b665179de142",
   "metadata": {},
   "source": [
    "# Creating Tensorflow Model"
   ]
  },
  {
   "cell_type": "code",
   "execution_count": 39,
   "id": "2e6588fe-d098-4f5a-bbcc-464e512b275d",
   "metadata": {},
   "outputs": [],
   "source": [
    "model = Sequential()"
   ]
  },
  {
   "cell_type": "code",
   "execution_count": 40,
   "id": "34db4611-17af-4baa-a5af-34a457aeec34",
   "metadata": {},
   "outputs": [],
   "source": [
    "model.add(Dense(256, activation='relu', input_shape=[X_train_scaler.shape[1]]))\n",
    "# model.add(BatchNormalization())\n",
    "model.add(Dense(256, activation='relu'))\n",
    "# model.add(BatchNormalization())\n",
    "\n",
    "model.add(Dense(128, activation='relu'))\n",
    "# model.add(BatchNormalization())\n",
    "model.add(Dense(128, activation='relu'))\n",
    "# model.add(BatchNormalization())\n",
    "\n",
    "model.add(Dense(64, activation='relu'))\n",
    "# model.add(BatchNormalization())\n",
    "model.add(Dense(64, activation='relu'))\n",
    "# model.add(BatchNormalization())\n",
    "\n",
    "model.add(Dense(32, activation='relu'))\n",
    "# model.add(BatchNormalization())\n",
    "model.add(Dense(32, activation='relu'))\n",
    "# model.add(BatchNormalization())\n",
    "\n",
    "model.add(Dense(16, activation='relu'))\n",
    "# model.add(BatchNormalization())\n",
    "model.add(Dense(16, activation='relu'))\n",
    "# model.add(BatchNormalization())\n",
    "\n",
    "model.add(Dense(1, activation='linear'))"
   ]
  },
  {
   "cell_type": "code",
   "execution_count": 41,
   "id": "b634255a-c9b7-4451-ad08-3416428ebc06",
   "metadata": {},
   "outputs": [
    {
     "name": "stdout",
     "output_type": "stream",
     "text": [
      "Model: \"sequential\"\n",
      "_________________________________________________________________\n",
      " Layer (type)                Output Shape              Param #   \n",
      "=================================================================\n",
      " dense (Dense)               (None, 256)               1792      \n",
      "                                                                 \n",
      " dense_1 (Dense)             (None, 256)               65792     \n",
      "                                                                 \n",
      " dense_2 (Dense)             (None, 128)               32896     \n",
      "                                                                 \n",
      " dense_3 (Dense)             (None, 128)               16512     \n",
      "                                                                 \n",
      " dense_4 (Dense)             (None, 64)                8256      \n",
      "                                                                 \n",
      " dense_5 (Dense)             (None, 64)                4160      \n",
      "                                                                 \n",
      " dense_6 (Dense)             (None, 32)                2080      \n",
      "                                                                 \n",
      " dense_7 (Dense)             (None, 32)                1056      \n",
      "                                                                 \n",
      " dense_8 (Dense)             (None, 16)                528       \n",
      "                                                                 \n",
      " dense_9 (Dense)             (None, 16)                272       \n",
      "                                                                 \n",
      " dense_10 (Dense)            (None, 1)                 17        \n",
      "                                                                 \n",
      "=================================================================\n",
      "Total params: 133,361\n",
      "Trainable params: 133,361\n",
      "Non-trainable params: 0\n",
      "_________________________________________________________________\n"
     ]
    }
   ],
   "source": [
    "model.summary()"
   ]
  },
  {
   "cell_type": "code",
   "execution_count": 42,
   "id": "98debba2-3a0b-412a-bd62-2deea1785e81",
   "metadata": {},
   "outputs": [],
   "source": [
    "adam = Adam(learning_rate=0.00001)"
   ]
  },
  {
   "cell_type": "code",
   "execution_count": 43,
   "id": "cc82c7ff-5539-4ff5-8b24-377a71fc39ab",
   "metadata": {},
   "outputs": [],
   "source": [
    "model.compile(optimizer=adam, loss='mse', metrics=['mae'])"
   ]
  },
  {
   "cell_type": "code",
   "execution_count": 44,
   "id": "4310e21d-a8a2-4f04-bcd8-c4cd6c616997",
   "metadata": {},
   "outputs": [
    {
     "name": "stdout",
     "output_type": "stream",
     "text": [
      "Epoch 1/250\n",
      "34/34 [==============================] - 2s 21ms/step - loss: 0.9957 - mae: 0.7487 - val_loss: 0.9939 - val_mae: 0.7594\n",
      "Epoch 2/250\n",
      "34/34 [==============================] - 0s 12ms/step - loss: 0.9909 - mae: 0.7467 - val_loss: 0.9890 - val_mae: 0.7569\n",
      "Epoch 3/250\n",
      "34/34 [==============================] - 1s 15ms/step - loss: 0.9851 - mae: 0.7437 - val_loss: 0.9819 - val_mae: 0.7530\n",
      "Epoch 4/250\n",
      "34/34 [==============================] - 0s 13ms/step - loss: 0.9781 - mae: 0.7399 - val_loss: 0.9734 - val_mae: 0.7486\n",
      "Epoch 5/250\n",
      "34/34 [==============================] - 0s 13ms/step - loss: 0.9700 - mae: 0.7355 - val_loss: 0.9638 - val_mae: 0.7433\n",
      "Epoch 6/250\n",
      "34/34 [==============================] - 0s 13ms/step - loss: 0.9606 - mae: 0.7306 - val_loss: 0.9527 - val_mae: 0.7374\n",
      "Epoch 7/250\n",
      "34/34 [==============================] - 0s 14ms/step - loss: 0.9495 - mae: 0.7249 - val_loss: 0.9393 - val_mae: 0.7305\n",
      "Epoch 8/250\n",
      "34/34 [==============================] - 0s 11ms/step - loss: 0.9362 - mae: 0.7181 - val_loss: 0.9231 - val_mae: 0.7222\n",
      "Epoch 9/250\n",
      "34/34 [==============================] - 0s 13ms/step - loss: 0.9200 - mae: 0.7100 - val_loss: 0.9046 - val_mae: 0.7124\n",
      "Epoch 10/250\n",
      "34/34 [==============================] - 0s 12ms/step - loss: 0.9006 - mae: 0.7006 - val_loss: 0.8814 - val_mae: 0.7020\n",
      "Epoch 11/250\n",
      "34/34 [==============================] - 0s 13ms/step - loss: 0.8771 - mae: 0.6891 - val_loss: 0.8543 - val_mae: 0.6888\n",
      "Epoch 12/250\n",
      "34/34 [==============================] - 0s 14ms/step - loss: 0.8492 - mae: 0.6751 - val_loss: 0.8214 - val_mae: 0.6729\n",
      "Epoch 13/250\n",
      "34/34 [==============================] - 0s 11ms/step - loss: 0.8157 - mae: 0.6589 - val_loss: 0.7829 - val_mae: 0.6539\n",
      "Epoch 14/250\n",
      "34/34 [==============================] - 0s 11ms/step - loss: 0.7770 - mae: 0.6396 - val_loss: 0.7380 - val_mae: 0.6323\n",
      "Epoch 15/250\n",
      "34/34 [==============================] - 0s 11ms/step - loss: 0.7318 - mae: 0.6171 - val_loss: 0.6886 - val_mae: 0.6075\n",
      "Epoch 16/250\n",
      "34/34 [==============================] - 0s 11ms/step - loss: 0.6820 - mae: 0.5909 - val_loss: 0.6305 - val_mae: 0.5776\n",
      "Epoch 17/250\n",
      "34/34 [==============================] - 0s 14ms/step - loss: 0.6262 - mae: 0.5614 - val_loss: 0.5680 - val_mae: 0.5453\n",
      "Epoch 18/250\n",
      "34/34 [==============================] - 0s 13ms/step - loss: 0.5636 - mae: 0.5284 - val_loss: 0.4971 - val_mae: 0.5077\n",
      "Epoch 19/250\n",
      "34/34 [==============================] - 0s 11ms/step - loss: 0.4985 - mae: 0.4947 - val_loss: 0.4294 - val_mae: 0.4719\n",
      "Epoch 20/250\n",
      "34/34 [==============================] - 0s 13ms/step - loss: 0.4384 - mae: 0.4618 - val_loss: 0.3657 - val_mae: 0.4378\n",
      "Epoch 21/250\n",
      "34/34 [==============================] - 0s 12ms/step - loss: 0.3840 - mae: 0.4316 - val_loss: 0.3135 - val_mae: 0.4004\n",
      "Epoch 22/250\n",
      "34/34 [==============================] - 0s 13ms/step - loss: 0.3402 - mae: 0.3950 - val_loss: 0.2691 - val_mae: 0.3706\n",
      "Epoch 23/250\n",
      "34/34 [==============================] - 0s 14ms/step - loss: 0.3055 - mae: 0.3787 - val_loss: 0.2394 - val_mae: 0.3480\n",
      "Epoch 24/250\n",
      "34/34 [==============================] - 0s 14ms/step - loss: 0.2816 - mae: 0.3587 - val_loss: 0.2161 - val_mae: 0.3200\n",
      "Epoch 25/250\n",
      "34/34 [==============================] - 0s 14ms/step - loss: 0.2636 - mae: 0.3396 - val_loss: 0.1999 - val_mae: 0.3003\n",
      "Epoch 26/250\n",
      "34/34 [==============================] - 0s 13ms/step - loss: 0.2503 - mae: 0.3265 - val_loss: 0.1875 - val_mae: 0.2848\n",
      "Epoch 27/250\n",
      "34/34 [==============================] - 0s 13ms/step - loss: 0.2388 - mae: 0.3167 - val_loss: 0.1770 - val_mae: 0.2775\n",
      "Epoch 28/250\n",
      "34/34 [==============================] - 0s 12ms/step - loss: 0.2298 - mae: 0.3063 - val_loss: 0.1681 - val_mae: 0.2667\n",
      "Epoch 29/250\n",
      "34/34 [==============================] - 0s 12ms/step - loss: 0.2216 - mae: 0.2962 - val_loss: 0.1612 - val_mae: 0.2675\n",
      "Epoch 30/250\n",
      "34/34 [==============================] - 0s 14ms/step - loss: 0.2151 - mae: 0.2966 - val_loss: 0.1545 - val_mae: 0.2600\n",
      "Epoch 31/250\n",
      "34/34 [==============================] - 0s 13ms/step - loss: 0.2086 - mae: 0.2883 - val_loss: 0.1494 - val_mae: 0.2562\n",
      "Epoch 32/250\n",
      "34/34 [==============================] - 0s 13ms/step - loss: 0.2015 - mae: 0.2805 - val_loss: 0.1436 - val_mae: 0.2470\n",
      "Epoch 33/250\n",
      "34/34 [==============================] - 0s 14ms/step - loss: 0.1961 - mae: 0.2827 - val_loss: 0.1393 - val_mae: 0.2463\n",
      "Epoch 34/250\n",
      "34/34 [==============================] - 0s 14ms/step - loss: 0.1919 - mae: 0.2728 - val_loss: 0.1351 - val_mae: 0.2385\n",
      "Epoch 35/250\n",
      "34/34 [==============================] - 0s 13ms/step - loss: 0.1875 - mae: 0.2682 - val_loss: 0.1334 - val_mae: 0.2416\n",
      "Epoch 36/250\n",
      "34/34 [==============================] - 0s 14ms/step - loss: 0.1843 - mae: 0.2718 - val_loss: 0.1301 - val_mae: 0.2323\n",
      "Epoch 37/250\n",
      "34/34 [==============================] - 1s 15ms/step - loss: 0.1814 - mae: 0.2631 - val_loss: 0.1290 - val_mae: 0.2395\n",
      "Epoch 38/250\n",
      "34/34 [==============================] - 0s 13ms/step - loss: 0.1788 - mae: 0.2587 - val_loss: 0.1264 - val_mae: 0.2336\n",
      "Epoch 39/250\n",
      "34/34 [==============================] - 0s 12ms/step - loss: 0.1763 - mae: 0.2623 - val_loss: 0.1248 - val_mae: 0.2331\n",
      "Epoch 40/250\n",
      "34/34 [==============================] - 0s 12ms/step - loss: 0.1744 - mae: 0.2640 - val_loss: 0.1231 - val_mae: 0.2202\n",
      "Epoch 41/250\n",
      "34/34 [==============================] - 0s 13ms/step - loss: 0.1733 - mae: 0.2548 - val_loss: 0.1224 - val_mae: 0.2285\n",
      "Epoch 42/250\n",
      "34/34 [==============================] - 0s 14ms/step - loss: 0.1711 - mae: 0.2519 - val_loss: 0.1211 - val_mae: 0.2274\n",
      "Epoch 43/250\n",
      "34/34 [==============================] - 0s 13ms/step - loss: 0.1700 - mae: 0.2541 - val_loss: 0.1225 - val_mae: 0.2382\n",
      "Epoch 44/250\n",
      "34/34 [==============================] - 0s 14ms/step - loss: 0.1685 - mae: 0.2549 - val_loss: 0.1194 - val_mae: 0.2265\n",
      "Epoch 45/250\n",
      "34/34 [==============================] - 0s 11ms/step - loss: 0.1678 - mae: 0.2542 - val_loss: 0.1186 - val_mae: 0.2215\n",
      "Epoch 46/250\n",
      "34/34 [==============================] - 0s 11ms/step - loss: 0.1669 - mae: 0.2455 - val_loss: 0.1200 - val_mae: 0.2333\n",
      "Epoch 47/250\n",
      "34/34 [==============================] - 0s 14ms/step - loss: 0.1664 - mae: 0.2531 - val_loss: 0.1175 - val_mae: 0.2262\n",
      "Epoch 48/250\n",
      "34/34 [==============================] - 0s 12ms/step - loss: 0.1655 - mae: 0.2563 - val_loss: 0.1162 - val_mae: 0.2166\n",
      "Epoch 49/250\n",
      "34/34 [==============================] - 0s 12ms/step - loss: 0.1647 - mae: 0.2493 - val_loss: 0.1168 - val_mae: 0.2248\n",
      "Epoch 50/250\n",
      "34/34 [==============================] - 0s 12ms/step - loss: 0.1639 - mae: 0.2432 - val_loss: 0.1161 - val_mae: 0.2251\n",
      "Epoch 51/250\n",
      "34/34 [==============================] - 0s 12ms/step - loss: 0.1633 - mae: 0.2511 - val_loss: 0.1160 - val_mae: 0.2273\n",
      "Epoch 52/250\n",
      "34/34 [==============================] - 0s 13ms/step - loss: 0.1625 - mae: 0.2437 - val_loss: 0.1164 - val_mae: 0.2279\n",
      "Epoch 53/250\n",
      "34/34 [==============================] - 0s 14ms/step - loss: 0.1624 - mae: 0.2550 - val_loss: 0.1158 - val_mae: 0.2265\n",
      "Epoch 54/250\n",
      "34/34 [==============================] - 0s 14ms/step - loss: 0.1613 - mae: 0.2474 - val_loss: 0.1151 - val_mae: 0.2226\n",
      "Epoch 55/250\n",
      "34/34 [==============================] - 0s 13ms/step - loss: 0.1608 - mae: 0.2496 - val_loss: 0.1144 - val_mae: 0.2202\n",
      "Epoch 56/250\n",
      "34/34 [==============================] - 0s 14ms/step - loss: 0.1609 - mae: 0.2398 - val_loss: 0.1176 - val_mae: 0.2372\n",
      "Epoch 57/250\n",
      "34/34 [==============================] - 0s 13ms/step - loss: 0.1602 - mae: 0.2498 - val_loss: 0.1142 - val_mae: 0.2208\n",
      "Epoch 58/250\n",
      "34/34 [==============================] - 0s 14ms/step - loss: 0.1599 - mae: 0.2459 - val_loss: 0.1134 - val_mae: 0.2171\n",
      "Epoch 59/250\n",
      "34/34 [==============================] - 0s 13ms/step - loss: 0.1591 - mae: 0.2409 - val_loss: 0.1147 - val_mae: 0.2260\n",
      "Epoch 60/250\n",
      "34/34 [==============================] - 0s 12ms/step - loss: 0.1588 - mae: 0.2458 - val_loss: 0.1138 - val_mae: 0.2229\n",
      "Epoch 61/250\n",
      "34/34 [==============================] - 0s 14ms/step - loss: 0.1585 - mae: 0.2424 - val_loss: 0.1133 - val_mae: 0.2203\n",
      "Epoch 62/250\n",
      "34/34 [==============================] - 0s 12ms/step - loss: 0.1579 - mae: 0.2447 - val_loss: 0.1142 - val_mae: 0.2257\n",
      "Epoch 63/250\n",
      "34/34 [==============================] - 0s 13ms/step - loss: 0.1573 - mae: 0.2458 - val_loss: 0.1130 - val_mae: 0.2199\n",
      "Epoch 64/250\n",
      "34/34 [==============================] - 0s 13ms/step - loss: 0.1575 - mae: 0.2364 - val_loss: 0.1154 - val_mae: 0.2316\n",
      "Epoch 65/250\n",
      "34/34 [==============================] - 0s 14ms/step - loss: 0.1574 - mae: 0.2477 - val_loss: 0.1132 - val_mae: 0.2233\n",
      "Epoch 66/250\n",
      "34/34 [==============================] - 0s 14ms/step - loss: 0.1563 - mae: 0.2433 - val_loss: 0.1123 - val_mae: 0.2192\n",
      "Epoch 67/250\n",
      "34/34 [==============================] - 0s 14ms/step - loss: 0.1560 - mae: 0.2407 - val_loss: 0.1129 - val_mae: 0.2204\n",
      "Epoch 68/250\n",
      "34/34 [==============================] - 0s 14ms/step - loss: 0.1559 - mae: 0.2413 - val_loss: 0.1139 - val_mae: 0.2258\n",
      "Epoch 69/250\n",
      "34/34 [==============================] - 0s 12ms/step - loss: 0.1554 - mae: 0.2422 - val_loss: 0.1121 - val_mae: 0.2182\n",
      "Epoch 70/250\n",
      "34/34 [==============================] - 0s 13ms/step - loss: 0.1550 - mae: 0.2392 - val_loss: 0.1129 - val_mae: 0.2216\n",
      "Epoch 71/250\n",
      "34/34 [==============================] - 0s 13ms/step - loss: 0.1548 - mae: 0.2381 - val_loss: 0.1119 - val_mae: 0.2175\n",
      "Epoch 72/250\n",
      "34/34 [==============================] - 0s 11ms/step - loss: 0.1544 - mae: 0.2392 - val_loss: 0.1129 - val_mae: 0.2239\n",
      "Epoch 73/250\n",
      "34/34 [==============================] - 0s 12ms/step - loss: 0.1542 - mae: 0.2403 - val_loss: 0.1116 - val_mae: 0.2146\n",
      "Epoch 74/250\n",
      "34/34 [==============================] - 0s 12ms/step - loss: 0.1536 - mae: 0.2382 - val_loss: 0.1138 - val_mae: 0.2284\n",
      "Epoch 75/250\n",
      "34/34 [==============================] - 0s 12ms/step - loss: 0.1535 - mae: 0.2412 - val_loss: 0.1122 - val_mae: 0.2206\n",
      "Epoch 76/250\n",
      "34/34 [==============================] - 0s 14ms/step - loss: 0.1531 - mae: 0.2368 - val_loss: 0.1129 - val_mae: 0.2246\n",
      "Epoch 77/250\n",
      "34/34 [==============================] - 0s 15ms/step - loss: 0.1534 - mae: 0.2392 - val_loss: 0.1133 - val_mae: 0.2246\n",
      "Epoch 78/250\n",
      "34/34 [==============================] - 0s 12ms/step - loss: 0.1530 - mae: 0.2379 - val_loss: 0.1137 - val_mae: 0.2281\n",
      "Epoch 79/250\n",
      "34/34 [==============================] - 0s 11ms/step - loss: 0.1526 - mae: 0.2391 - val_loss: 0.1118 - val_mae: 0.2175\n",
      "Epoch 80/250\n",
      "34/34 [==============================] - 0s 12ms/step - loss: 0.1524 - mae: 0.2395 - val_loss: 0.1121 - val_mae: 0.2194\n",
      "Epoch 81/250\n",
      "34/34 [==============================] - 0s 13ms/step - loss: 0.1520 - mae: 0.2318 - val_loss: 0.1145 - val_mae: 0.2313\n",
      "Epoch 82/250\n",
      "34/34 [==============================] - 0s 14ms/step - loss: 0.1518 - mae: 0.2376 - val_loss: 0.1121 - val_mae: 0.2221\n",
      "Epoch 83/250\n",
      "34/34 [==============================] - 0s 14ms/step - loss: 0.1515 - mae: 0.2351 - val_loss: 0.1122 - val_mae: 0.2229\n",
      "Epoch 84/250\n",
      "34/34 [==============================] - 0s 14ms/step - loss: 0.1510 - mae: 0.2334 - val_loss: 0.1131 - val_mae: 0.2255\n",
      "Epoch 85/250\n",
      "34/34 [==============================] - 0s 14ms/step - loss: 0.1510 - mae: 0.2400 - val_loss: 0.1110 - val_mae: 0.2162\n",
      "Epoch 86/250\n",
      "34/34 [==============================] - 0s 14ms/step - loss: 0.1506 - mae: 0.2370 - val_loss: 0.1121 - val_mae: 0.2212\n",
      "Epoch 87/250\n",
      "34/34 [==============================] - 0s 13ms/step - loss: 0.1504 - mae: 0.2354 - val_loss: 0.1128 - val_mae: 0.2254\n",
      "Epoch 88/250\n",
      "34/34 [==============================] - 0s 13ms/step - loss: 0.1503 - mae: 0.2307 - val_loss: 0.1131 - val_mae: 0.2263\n",
      "Epoch 89/250\n",
      "34/34 [==============================] - 0s 11ms/step - loss: 0.1499 - mae: 0.2365 - val_loss: 0.1121 - val_mae: 0.2218\n",
      "Epoch 90/250\n",
      "34/34 [==============================] - 0s 12ms/step - loss: 0.1497 - mae: 0.2357 - val_loss: 0.1100 - val_mae: 0.2091\n",
      "Epoch 91/250\n",
      "34/34 [==============================] - 0s 11ms/step - loss: 0.1497 - mae: 0.2305 - val_loss: 0.1121 - val_mae: 0.2244\n",
      "Epoch 92/250\n",
      "34/34 [==============================] - 0s 12ms/step - loss: 0.1492 - mae: 0.2325 - val_loss: 0.1116 - val_mae: 0.2174\n",
      "Epoch 93/250\n",
      "34/34 [==============================] - 0s 14ms/step - loss: 0.1488 - mae: 0.2322 - val_loss: 0.1106 - val_mae: 0.2158\n",
      "Epoch 94/250\n",
      "34/34 [==============================] - 0s 12ms/step - loss: 0.1486 - mae: 0.2331 - val_loss: 0.1115 - val_mae: 0.2210\n",
      "Epoch 95/250\n",
      "34/34 [==============================] - 0s 11ms/step - loss: 0.1486 - mae: 0.2313 - val_loss: 0.1113 - val_mae: 0.2225\n",
      "Epoch 96/250\n",
      "34/34 [==============================] - 0s 13ms/step - loss: 0.1481 - mae: 0.2351 - val_loss: 0.1104 - val_mae: 0.2142\n",
      "Epoch 97/250\n",
      "34/34 [==============================] - 0s 14ms/step - loss: 0.1481 - mae: 0.2302 - val_loss: 0.1133 - val_mae: 0.2251\n",
      "Epoch 98/250\n",
      "34/34 [==============================] - 0s 14ms/step - loss: 0.1482 - mae: 0.2295 - val_loss: 0.1117 - val_mae: 0.2211\n",
      "Epoch 99/250\n",
      "34/34 [==============================] - 0s 14ms/step - loss: 0.1477 - mae: 0.2320 - val_loss: 0.1110 - val_mae: 0.2183\n",
      "Epoch 100/250\n",
      "34/34 [==============================] - 0s 13ms/step - loss: 0.1472 - mae: 0.2301 - val_loss: 0.1105 - val_mae: 0.2154\n",
      "Epoch 101/250\n",
      "34/34 [==============================] - 0s 14ms/step - loss: 0.1471 - mae: 0.2300 - val_loss: 0.1104 - val_mae: 0.2156\n",
      "Epoch 102/250\n",
      "34/34 [==============================] - 0s 13ms/step - loss: 0.1472 - mae: 0.2316 - val_loss: 0.1094 - val_mae: 0.2077\n",
      "Epoch 103/250\n",
      "34/34 [==============================] - 0s 12ms/step - loss: 0.1468 - mae: 0.2272 - val_loss: 0.1120 - val_mae: 0.2239\n",
      "Epoch 104/250\n",
      "34/34 [==============================] - 0s 13ms/step - loss: 0.1464 - mae: 0.2311 - val_loss: 0.1104 - val_mae: 0.2159\n",
      "Epoch 105/250\n",
      "34/34 [==============================] - 0s 13ms/step - loss: 0.1463 - mae: 0.2313 - val_loss: 0.1104 - val_mae: 0.2133\n",
      "Epoch 106/250\n",
      "34/34 [==============================] - 0s 13ms/step - loss: 0.1470 - mae: 0.2287 - val_loss: 0.1124 - val_mae: 0.2262\n",
      "Epoch 107/250\n",
      "34/34 [==============================] - 0s 13ms/step - loss: 0.1463 - mae: 0.2295 - val_loss: 0.1103 - val_mae: 0.2156\n",
      "Epoch 108/250\n",
      "34/34 [==============================] - 0s 13ms/step - loss: 0.1459 - mae: 0.2289 - val_loss: 0.1094 - val_mae: 0.2094\n",
      "Epoch 109/250\n",
      "34/34 [==============================] - 0s 12ms/step - loss: 0.1455 - mae: 0.2227 - val_loss: 0.1116 - val_mae: 0.2208\n",
      "Epoch 110/250\n",
      "34/34 [==============================] - 0s 12ms/step - loss: 0.1451 - mae: 0.2330 - val_loss: 0.1090 - val_mae: 0.2073\n",
      "Epoch 111/250\n",
      "34/34 [==============================] - 0s 15ms/step - loss: 0.1458 - mae: 0.2242 - val_loss: 0.1126 - val_mae: 0.2250\n",
      "Epoch 112/250\n",
      "34/34 [==============================] - 0s 12ms/step - loss: 0.1453 - mae: 0.2283 - val_loss: 0.1106 - val_mae: 0.2179\n",
      "Epoch 113/250\n",
      "34/34 [==============================] - 0s 12ms/step - loss: 0.1455 - mae: 0.2260 - val_loss: 0.1128 - val_mae: 0.2274\n",
      "Epoch 114/250\n",
      "34/34 [==============================] - 0s 13ms/step - loss: 0.1444 - mae: 0.2254 - val_loss: 0.1105 - val_mae: 0.2164\n",
      "Epoch 115/250\n",
      "34/34 [==============================] - 0s 13ms/step - loss: 0.1442 - mae: 0.2275 - val_loss: 0.1101 - val_mae: 0.2155\n",
      "Epoch 116/250\n",
      "34/34 [==============================] - 0s 12ms/step - loss: 0.1440 - mae: 0.2263 - val_loss: 0.1100 - val_mae: 0.2153\n",
      "Epoch 117/250\n",
      "34/34 [==============================] - 0s 13ms/step - loss: 0.1440 - mae: 0.2285 - val_loss: 0.1088 - val_mae: 0.2070\n",
      "Epoch 118/250\n",
      "34/34 [==============================] - 0s 12ms/step - loss: 0.1441 - mae: 0.2245 - val_loss: 0.1094 - val_mae: 0.2123\n",
      "Epoch 119/250\n",
      "34/34 [==============================] - 0s 14ms/step - loss: 0.1442 - mae: 0.2237 - val_loss: 0.1130 - val_mae: 0.2291\n",
      "Epoch 120/250\n",
      "34/34 [==============================] - 0s 13ms/step - loss: 0.1434 - mae: 0.2285 - val_loss: 0.1099 - val_mae: 0.2155\n",
      "Epoch 121/250\n",
      "34/34 [==============================] - 0s 13ms/step - loss: 0.1430 - mae: 0.2256 - val_loss: 0.1108 - val_mae: 0.2175\n",
      "Epoch 122/250\n",
      "34/34 [==============================] - 0s 14ms/step - loss: 0.1429 - mae: 0.2256 - val_loss: 0.1103 - val_mae: 0.2155\n",
      "Epoch 123/250\n",
      "34/34 [==============================] - 0s 11ms/step - loss: 0.1425 - mae: 0.2259 - val_loss: 0.1091 - val_mae: 0.2101\n",
      "Epoch 124/250\n",
      "34/34 [==============================] - 0s 11ms/step - loss: 0.1427 - mae: 0.2229 - val_loss: 0.1096 - val_mae: 0.2126\n",
      "Epoch 125/250\n",
      "34/34 [==============================] - 0s 11ms/step - loss: 0.1423 - mae: 0.2224 - val_loss: 0.1095 - val_mae: 0.2144\n",
      "Epoch 126/250\n",
      "34/34 [==============================] - 0s 13ms/step - loss: 0.1424 - mae: 0.2244 - val_loss: 0.1117 - val_mae: 0.2203\n",
      "Epoch 127/250\n",
      "34/34 [==============================] - 1s 15ms/step - loss: 0.1424 - mae: 0.2223 - val_loss: 0.1114 - val_mae: 0.2219\n",
      "Epoch 128/250\n",
      "34/34 [==============================] - 0s 13ms/step - loss: 0.1418 - mae: 0.2241 - val_loss: 0.1119 - val_mae: 0.2217\n",
      "Epoch 129/250\n",
      "34/34 [==============================] - 0s 12ms/step - loss: 0.1417 - mae: 0.2192 - val_loss: 0.1096 - val_mae: 0.2137\n",
      "Epoch 130/250\n",
      "34/34 [==============================] - 0s 13ms/step - loss: 0.1411 - mae: 0.2231 - val_loss: 0.1102 - val_mae: 0.2156\n",
      "Epoch 131/250\n",
      "34/34 [==============================] - 0s 12ms/step - loss: 0.1408 - mae: 0.2232 - val_loss: 0.1112 - val_mae: 0.2210\n",
      "Epoch 132/250\n",
      "34/34 [==============================] - 0s 14ms/step - loss: 0.1407 - mae: 0.2227 - val_loss: 0.1097 - val_mae: 0.2135\n",
      "Epoch 133/250\n",
      "34/34 [==============================] - 0s 13ms/step - loss: 0.1407 - mae: 0.2226 - val_loss: 0.1106 - val_mae: 0.2167\n",
      "Epoch 134/250\n",
      "34/34 [==============================] - 0s 14ms/step - loss: 0.1405 - mae: 0.2201 - val_loss: 0.1110 - val_mae: 0.2200\n",
      "Epoch 135/250\n",
      "34/34 [==============================] - 0s 13ms/step - loss: 0.1403 - mae: 0.2220 - val_loss: 0.1097 - val_mae: 0.2124\n",
      "Epoch 136/250\n",
      "34/34 [==============================] - 0s 13ms/step - loss: 0.1402 - mae: 0.2218 - val_loss: 0.1087 - val_mae: 0.2082\n",
      "Epoch 137/250\n",
      "34/34 [==============================] - 0s 14ms/step - loss: 0.1409 - mae: 0.2207 - val_loss: 0.1083 - val_mae: 0.2035\n",
      "Epoch 138/250\n",
      "34/34 [==============================] - 0s 13ms/step - loss: 0.1400 - mae: 0.2202 - val_loss: 0.1103 - val_mae: 0.2162\n",
      "Epoch 139/250\n",
      "34/34 [==============================] - 0s 13ms/step - loss: 0.1397 - mae: 0.2205 - val_loss: 0.1115 - val_mae: 0.2221\n",
      "Epoch 140/250\n",
      "34/34 [==============================] - 0s 12ms/step - loss: 0.1396 - mae: 0.2229 - val_loss: 0.1101 - val_mae: 0.2145\n",
      "Epoch 141/250\n",
      "34/34 [==============================] - 0s 13ms/step - loss: 0.1393 - mae: 0.2181 - val_loss: 0.1107 - val_mae: 0.2163\n",
      "Epoch 142/250\n",
      "34/34 [==============================] - 0s 14ms/step - loss: 0.1388 - mae: 0.2224 - val_loss: 0.1089 - val_mae: 0.2106\n",
      "Epoch 143/250\n",
      "34/34 [==============================] - 0s 12ms/step - loss: 0.1390 - mae: 0.2197 - val_loss: 0.1114 - val_mae: 0.2203\n",
      "Epoch 144/250\n",
      "34/34 [==============================] - 0s 11ms/step - loss: 0.1387 - mae: 0.2196 - val_loss: 0.1096 - val_mae: 0.2132\n",
      "Epoch 145/250\n",
      "34/34 [==============================] - 0s 12ms/step - loss: 0.1383 - mae: 0.2195 - val_loss: 0.1104 - val_mae: 0.2138\n",
      "Epoch 146/250\n",
      "34/34 [==============================] - 0s 13ms/step - loss: 0.1383 - mae: 0.2140 - val_loss: 0.1108 - val_mae: 0.2165\n",
      "Epoch 147/250\n",
      "34/34 [==============================] - 0s 11ms/step - loss: 0.1381 - mae: 0.2211 - val_loss: 0.1102 - val_mae: 0.2146\n",
      "Epoch 148/250\n",
      "34/34 [==============================] - 0s 14ms/step - loss: 0.1378 - mae: 0.2193 - val_loss: 0.1097 - val_mae: 0.2123\n",
      "Epoch 149/250\n",
      "34/34 [==============================] - 0s 13ms/step - loss: 0.1375 - mae: 0.2146 - val_loss: 0.1109 - val_mae: 0.2181\n",
      "Epoch 150/250\n",
      "34/34 [==============================] - 0s 12ms/step - loss: 0.1380 - mae: 0.2217 - val_loss: 0.1092 - val_mae: 0.2108\n",
      "Epoch 151/250\n",
      "34/34 [==============================] - 0s 14ms/step - loss: 0.1373 - mae: 0.2195 - val_loss: 0.1100 - val_mae: 0.2145\n",
      "Epoch 152/250\n",
      "34/34 [==============================] - 0s 13ms/step - loss: 0.1369 - mae: 0.2180 - val_loss: 0.1115 - val_mae: 0.2189\n",
      "Epoch 153/250\n",
      "34/34 [==============================] - 0s 12ms/step - loss: 0.1368 - mae: 0.2170 - val_loss: 0.1107 - val_mae: 0.2161\n",
      "Epoch 154/250\n",
      "34/34 [==============================] - 0s 13ms/step - loss: 0.1366 - mae: 0.2190 - val_loss: 0.1095 - val_mae: 0.2086\n",
      "Epoch 155/250\n",
      "34/34 [==============================] - 0s 13ms/step - loss: 0.1368 - mae: 0.2155 - val_loss: 0.1132 - val_mae: 0.2242\n",
      "Epoch 156/250\n",
      "34/34 [==============================] - 0s 13ms/step - loss: 0.1365 - mae: 0.2159 - val_loss: 0.1093 - val_mae: 0.2086\n",
      "Epoch 157/250\n",
      "34/34 [==============================] - 0s 13ms/step - loss: 0.1363 - mae: 0.2215 - val_loss: 0.1090 - val_mae: 0.2070\n",
      "Epoch 158/250\n",
      "34/34 [==============================] - 0s 12ms/step - loss: 0.1360 - mae: 0.2128 - val_loss: 0.1101 - val_mae: 0.2136\n",
      "Epoch 159/250\n",
      "34/34 [==============================] - 0s 13ms/step - loss: 0.1356 - mae: 0.2217 - val_loss: 0.1085 - val_mae: 0.2056\n",
      "Epoch 160/250\n",
      "34/34 [==============================] - 0s 13ms/step - loss: 0.1358 - mae: 0.2128 - val_loss: 0.1112 - val_mae: 0.2177\n",
      "Epoch 161/250\n",
      "34/34 [==============================] - 0s 11ms/step - loss: 0.1355 - mae: 0.2171 - val_loss: 0.1108 - val_mae: 0.2163\n",
      "Epoch 162/250\n",
      "34/34 [==============================] - 0s 11ms/step - loss: 0.1350 - mae: 0.2157 - val_loss: 0.1095 - val_mae: 0.2117\n",
      "Epoch 163/250\n",
      "34/34 [==============================] - 0s 14ms/step - loss: 0.1350 - mae: 0.2147 - val_loss: 0.1112 - val_mae: 0.2154\n",
      "Epoch 164/250\n",
      "34/34 [==============================] - 0s 13ms/step - loss: 0.1347 - mae: 0.2149 - val_loss: 0.1103 - val_mae: 0.2110\n",
      "Epoch 165/250\n",
      "34/34 [==============================] - 0s 12ms/step - loss: 0.1344 - mae: 0.2113 - val_loss: 0.1107 - val_mae: 0.2143\n",
      "Epoch 166/250\n",
      "34/34 [==============================] - 0s 10ms/step - loss: 0.1344 - mae: 0.2141 - val_loss: 0.1102 - val_mae: 0.2110\n",
      "Epoch 167/250\n",
      "34/34 [==============================] - 1s 15ms/step - loss: 0.1341 - mae: 0.2183 - val_loss: 0.1099 - val_mae: 0.2107\n",
      "Epoch 168/250\n",
      "34/34 [==============================] - 0s 14ms/step - loss: 0.1342 - mae: 0.2124 - val_loss: 0.1114 - val_mae: 0.2181\n",
      "Epoch 169/250\n",
      "34/34 [==============================] - 0s 13ms/step - loss: 0.1338 - mae: 0.2152 - val_loss: 0.1114 - val_mae: 0.2155\n",
      "Epoch 170/250\n",
      "34/34 [==============================] - 0s 13ms/step - loss: 0.1336 - mae: 0.2167 - val_loss: 0.1098 - val_mae: 0.2069\n",
      "Epoch 171/250\n",
      "34/34 [==============================] - 0s 12ms/step - loss: 0.1343 - mae: 0.2164 - val_loss: 0.1099 - val_mae: 0.2089\n",
      "Epoch 172/250\n",
      "34/34 [==============================] - 0s 14ms/step - loss: 0.1339 - mae: 0.2120 - val_loss: 0.1118 - val_mae: 0.2178\n",
      "Epoch 173/250\n",
      "34/34 [==============================] - 1s 15ms/step - loss: 0.1330 - mae: 0.2133 - val_loss: 0.1102 - val_mae: 0.2104\n",
      "Epoch 174/250\n",
      "34/34 [==============================] - 0s 13ms/step - loss: 0.1335 - mae: 0.2165 - val_loss: 0.1096 - val_mae: 0.2045\n",
      "Epoch 175/250\n",
      "34/34 [==============================] - 0s 11ms/step - loss: 0.1332 - mae: 0.2077 - val_loss: 0.1106 - val_mae: 0.2101\n",
      "Epoch 176/250\n",
      "34/34 [==============================] - 0s 12ms/step - loss: 0.1330 - mae: 0.2127 - val_loss: 0.1130 - val_mae: 0.2218\n",
      "Epoch 177/250\n",
      "34/34 [==============================] - 0s 13ms/step - loss: 0.1324 - mae: 0.2136 - val_loss: 0.1109 - val_mae: 0.2128\n",
      "Epoch 178/250\n",
      "34/34 [==============================] - 0s 13ms/step - loss: 0.1322 - mae: 0.2098 - val_loss: 0.1119 - val_mae: 0.2165\n",
      "Epoch 179/250\n",
      "34/34 [==============================] - 0s 12ms/step - loss: 0.1324 - mae: 0.2129 - val_loss: 0.1125 - val_mae: 0.2183\n",
      "Epoch 180/250\n",
      "34/34 [==============================] - 0s 12ms/step - loss: 0.1325 - mae: 0.2119 - val_loss: 0.1149 - val_mae: 0.2267\n",
      "Epoch 181/250\n",
      "34/34 [==============================] - 0s 13ms/step - loss: 0.1320 - mae: 0.2124 - val_loss: 0.1107 - val_mae: 0.2104\n",
      "Epoch 182/250\n",
      "34/34 [==============================] - 0s 13ms/step - loss: 0.1318 - mae: 0.2130 - val_loss: 0.1106 - val_mae: 0.2100\n",
      "Epoch 183/250\n",
      "34/34 [==============================] - 0s 13ms/step - loss: 0.1316 - mae: 0.2106 - val_loss: 0.1099 - val_mae: 0.2059\n",
      "Epoch 184/250\n",
      "34/34 [==============================] - 0s 13ms/step - loss: 0.1321 - mae: 0.2088 - val_loss: 0.1105 - val_mae: 0.2087\n",
      "Epoch 185/250\n",
      "34/34 [==============================] - 0s 13ms/step - loss: 0.1318 - mae: 0.2164 - val_loss: 0.1094 - val_mae: 0.2003\n",
      "Epoch 186/250\n",
      "34/34 [==============================] - 0s 14ms/step - loss: 0.1316 - mae: 0.2069 - val_loss: 0.1133 - val_mae: 0.2209\n",
      "Epoch 187/250\n",
      "34/34 [==============================] - 0s 11ms/step - loss: 0.1312 - mae: 0.2107 - val_loss: 0.1135 - val_mae: 0.2221\n",
      "Epoch 188/250\n",
      "34/34 [==============================] - 0s 12ms/step - loss: 0.1308 - mae: 0.2111 - val_loss: 0.1111 - val_mae: 0.2106\n",
      "Epoch 189/250\n",
      "34/34 [==============================] - 0s 13ms/step - loss: 0.1306 - mae: 0.2117 - val_loss: 0.1103 - val_mae: 0.2094\n",
      "Epoch 190/250\n",
      "34/34 [==============================] - 0s 15ms/step - loss: 0.1304 - mae: 0.2097 - val_loss: 0.1115 - val_mae: 0.2137\n",
      "Epoch 191/250\n",
      "34/34 [==============================] - 0s 13ms/step - loss: 0.1302 - mae: 0.2116 - val_loss: 0.1113 - val_mae: 0.2101\n",
      "Epoch 192/250\n",
      "34/34 [==============================] - 0s 11ms/step - loss: 0.1305 - mae: 0.2072 - val_loss: 0.1107 - val_mae: 0.2081\n",
      "Epoch 193/250\n",
      "34/34 [==============================] - 0s 12ms/step - loss: 0.1300 - mae: 0.2117 - val_loss: 0.1117 - val_mae: 0.2136\n",
      "Epoch 194/250\n",
      "34/34 [==============================] - 0s 13ms/step - loss: 0.1296 - mae: 0.2053 - val_loss: 0.1140 - val_mae: 0.2213\n",
      "Epoch 195/250\n",
      "34/34 [==============================] - 1s 16ms/step - loss: 0.1298 - mae: 0.2113 - val_loss: 0.1116 - val_mae: 0.2122\n",
      "Epoch 196/250\n",
      "34/34 [==============================] - 0s 14ms/step - loss: 0.1295 - mae: 0.2069 - val_loss: 0.1140 - val_mae: 0.2215\n",
      "Epoch 197/250\n",
      "34/34 [==============================] - 0s 13ms/step - loss: 0.1295 - mae: 0.2086 - val_loss: 0.1117 - val_mae: 0.2136\n",
      "Epoch 198/250\n",
      "34/34 [==============================] - 0s 13ms/step - loss: 0.1295 - mae: 0.2180 - val_loss: 0.1101 - val_mae: 0.2014\n",
      "Epoch 199/250\n",
      "34/34 [==============================] - 0s 13ms/step - loss: 0.1298 - mae: 0.2069 - val_loss: 0.1144 - val_mae: 0.2234\n",
      "Epoch 200/250\n",
      "34/34 [==============================] - 0s 13ms/step - loss: 0.1289 - mae: 0.2071 - val_loss: 0.1121 - val_mae: 0.2123\n",
      "Epoch 201/250\n",
      "34/34 [==============================] - 0s 14ms/step - loss: 0.1291 - mae: 0.2073 - val_loss: 0.1157 - val_mae: 0.2262\n",
      "Epoch 202/250\n",
      "34/34 [==============================] - 0s 14ms/step - loss: 0.1289 - mae: 0.2079 - val_loss: 0.1142 - val_mae: 0.2187\n",
      "Epoch 203/250\n",
      "34/34 [==============================] - 0s 12ms/step - loss: 0.1286 - mae: 0.2062 - val_loss: 0.1154 - val_mae: 0.2256\n",
      "Epoch 204/250\n",
      "34/34 [==============================] - 0s 14ms/step - loss: 0.1285 - mae: 0.2122 - val_loss: 0.1106 - val_mae: 0.2060\n",
      "Epoch 205/250\n",
      "34/34 [==============================] - 0s 14ms/step - loss: 0.1279 - mae: 0.2078 - val_loss: 0.1143 - val_mae: 0.2227\n",
      "Epoch 206/250\n",
      "34/34 [==============================] - 0s 15ms/step - loss: 0.1282 - mae: 0.2126 - val_loss: 0.1123 - val_mae: 0.2108\n",
      "Epoch 207/250\n",
      "34/34 [==============================] - 0s 12ms/step - loss: 0.1276 - mae: 0.2052 - val_loss: 0.1123 - val_mae: 0.2113\n",
      "Epoch 208/250\n",
      "34/34 [==============================] - 0s 12ms/step - loss: 0.1273 - mae: 0.2057 - val_loss: 0.1134 - val_mae: 0.2167\n",
      "Epoch 209/250\n",
      "34/34 [==============================] - 0s 14ms/step - loss: 0.1284 - mae: 0.2089 - val_loss: 0.1135 - val_mae: 0.2150\n",
      "Epoch 210/250\n",
      "34/34 [==============================] - 0s 12ms/step - loss: 0.1278 - mae: 0.2115 - val_loss: 0.1106 - val_mae: 0.1983\n",
      "Epoch 211/250\n",
      "34/34 [==============================] - 0s 12ms/step - loss: 0.1276 - mae: 0.2037 - val_loss: 0.1132 - val_mae: 0.2160\n",
      "Epoch 212/250\n",
      "34/34 [==============================] - 0s 12ms/step - loss: 0.1279 - mae: 0.2070 - val_loss: 0.1169 - val_mae: 0.2296\n",
      "Epoch 213/250\n",
      "34/34 [==============================] - 0s 12ms/step - loss: 0.1270 - mae: 0.2060 - val_loss: 0.1135 - val_mae: 0.2140\n",
      "Epoch 214/250\n",
      "34/34 [==============================] - 0s 12ms/step - loss: 0.1266 - mae: 0.2074 - val_loss: 0.1124 - val_mae: 0.2095\n",
      "Epoch 215/250\n",
      "34/34 [==============================] - 0s 12ms/step - loss: 0.1263 - mae: 0.2042 - val_loss: 0.1144 - val_mae: 0.2173\n",
      "Epoch 216/250\n",
      "34/34 [==============================] - 0s 13ms/step - loss: 0.1265 - mae: 0.2070 - val_loss: 0.1123 - val_mae: 0.2078\n",
      "Epoch 217/250\n",
      "34/34 [==============================] - 0s 12ms/step - loss: 0.1263 - mae: 0.2062 - val_loss: 0.1131 - val_mae: 0.2104\n",
      "Epoch 218/250\n",
      "34/34 [==============================] - 0s 10ms/step - loss: 0.1259 - mae: 0.2057 - val_loss: 0.1130 - val_mae: 0.2109\n",
      "Epoch 219/250\n",
      "34/34 [==============================] - 0s 13ms/step - loss: 0.1258 - mae: 0.2023 - val_loss: 0.1151 - val_mae: 0.2214\n",
      "Epoch 220/250\n",
      "34/34 [==============================] - 0s 12ms/step - loss: 0.1257 - mae: 0.2053 - val_loss: 0.1147 - val_mae: 0.2165\n",
      "Epoch 221/250\n",
      "34/34 [==============================] - 0s 13ms/step - loss: 0.1257 - mae: 0.2071 - val_loss: 0.1133 - val_mae: 0.2121\n",
      "Epoch 222/250\n",
      "34/34 [==============================] - 0s 11ms/step - loss: 0.1257 - mae: 0.2019 - val_loss: 0.1143 - val_mae: 0.2155\n",
      "Epoch 223/250\n",
      "34/34 [==============================] - 0s 12ms/step - loss: 0.1251 - mae: 0.2023 - val_loss: 0.1147 - val_mae: 0.2172\n",
      "Epoch 224/250\n",
      "34/34 [==============================] - 0s 13ms/step - loss: 0.1251 - mae: 0.2057 - val_loss: 0.1138 - val_mae: 0.2129\n",
      "Epoch 225/250\n",
      "34/34 [==============================] - 0s 13ms/step - loss: 0.1248 - mae: 0.2003 - val_loss: 0.1167 - val_mae: 0.2235\n",
      "Epoch 226/250\n",
      "34/34 [==============================] - 0s 12ms/step - loss: 0.1252 - mae: 0.2075 - val_loss: 0.1132 - val_mae: 0.2109\n",
      "Epoch 227/250\n",
      "34/34 [==============================] - 0s 13ms/step - loss: 0.1247 - mae: 0.2069 - val_loss: 0.1123 - val_mae: 0.2056\n",
      "Epoch 228/250\n",
      "34/34 [==============================] - 0s 13ms/step - loss: 0.1250 - mae: 0.2046 - val_loss: 0.1142 - val_mae: 0.2148\n",
      "Epoch 229/250\n",
      "34/34 [==============================] - 0s 12ms/step - loss: 0.1244 - mae: 0.2015 - val_loss: 0.1136 - val_mae: 0.2112\n",
      "Epoch 230/250\n",
      "34/34 [==============================] - 0s 14ms/step - loss: 0.1245 - mae: 0.2002 - val_loss: 0.1166 - val_mae: 0.2227\n",
      "Epoch 231/250\n",
      "34/34 [==============================] - 0s 12ms/step - loss: 0.1250 - mae: 0.2095 - val_loss: 0.1125 - val_mae: 0.2054\n",
      "Epoch 232/250\n",
      "34/34 [==============================] - 0s 12ms/step - loss: 0.1244 - mae: 0.2015 - val_loss: 0.1141 - val_mae: 0.2115\n",
      "Epoch 233/250\n",
      "34/34 [==============================] - 0s 14ms/step - loss: 0.1238 - mae: 0.2062 - val_loss: 0.1144 - val_mae: 0.2144\n",
      "Epoch 234/250\n",
      "34/34 [==============================] - 0s 13ms/step - loss: 0.1238 - mae: 0.2033 - val_loss: 0.1137 - val_mae: 0.2098\n",
      "Epoch 235/250\n",
      "34/34 [==============================] - 0s 12ms/step - loss: 0.1241 - mae: 0.2024 - val_loss: 0.1155 - val_mae: 0.2171\n",
      "Epoch 236/250\n",
      "34/34 [==============================] - 0s 13ms/step - loss: 0.1233 - mae: 0.2039 - val_loss: 0.1137 - val_mae: 0.2104\n",
      "Epoch 237/250\n",
      "34/34 [==============================] - 0s 13ms/step - loss: 0.1230 - mae: 0.2014 - val_loss: 0.1156 - val_mae: 0.2178\n",
      "Epoch 238/250\n",
      "34/34 [==============================] - 0s 13ms/step - loss: 0.1231 - mae: 0.2036 - val_loss: 0.1161 - val_mae: 0.2193\n",
      "Epoch 239/250\n",
      "34/34 [==============================] - 0s 13ms/step - loss: 0.1233 - mae: 0.1994 - val_loss: 0.1161 - val_mae: 0.2185\n",
      "Epoch 240/250\n",
      "34/34 [==============================] - 0s 12ms/step - loss: 0.1227 - mae: 0.2098 - val_loss: 0.1128 - val_mae: 0.2052\n",
      "Epoch 241/250\n",
      "34/34 [==============================] - 0s 15ms/step - loss: 0.1241 - mae: 0.2045 - val_loss: 0.1162 - val_mae: 0.2191\n",
      "Epoch 242/250\n",
      "34/34 [==============================] - 0s 13ms/step - loss: 0.1230 - mae: 0.2006 - val_loss: 0.1188 - val_mae: 0.2291\n",
      "Epoch 243/250\n",
      "34/34 [==============================] - 0s 12ms/step - loss: 0.1223 - mae: 0.2040 - val_loss: 0.1142 - val_mae: 0.2082\n",
      "Epoch 244/250\n",
      "34/34 [==============================] - 0s 14ms/step - loss: 0.1223 - mae: 0.2050 - val_loss: 0.1137 - val_mae: 0.2072\n",
      "Epoch 245/250\n",
      "34/34 [==============================] - 0s 13ms/step - loss: 0.1223 - mae: 0.2036 - val_loss: 0.1147 - val_mae: 0.2128\n",
      "Epoch 246/250\n",
      "34/34 [==============================] - 0s 12ms/step - loss: 0.1219 - mae: 0.2007 - val_loss: 0.1177 - val_mae: 0.2226\n",
      "Epoch 247/250\n",
      "34/34 [==============================] - 0s 13ms/step - loss: 0.1219 - mae: 0.2000 - val_loss: 0.1165 - val_mae: 0.2172\n",
      "Epoch 248/250\n",
      "34/34 [==============================] - 0s 14ms/step - loss: 0.1216 - mae: 0.2032 - val_loss: 0.1136 - val_mae: 0.2063\n",
      "Epoch 249/250\n",
      "34/34 [==============================] - 0s 13ms/step - loss: 0.1214 - mae: 0.1993 - val_loss: 0.1179 - val_mae: 0.2241\n",
      "Epoch 250/250\n",
      "34/34 [==============================] - 0s 13ms/step - loss: 0.1214 - mae: 0.2030 - val_loss: 0.1169 - val_mae: 0.2187\n"
     ]
    }
   ],
   "source": [
    "history = model.fit(X_train_scaler, y_train_scaler, epochs=250, validation_data=(X_test_scaler, y_test_scaler))"
   ]
  },
  {
   "cell_type": "code",
   "execution_count": 45,
   "id": "5258a44c-a88a-4f35-b65f-648500b94df3",
   "metadata": {},
   "outputs": [
    {
     "data": {
      "image/png": "[encoded data removed]",
      "text/plain": [
       "<Figure size 640x480 with 1 Axes>"
      ]
     },
     "metadata": {},
     "output_type": "display_data"
    }
   ],
   "source": [
    "plt.title(\"Loss\")\n",
    "plt.plot(history.history['loss'], label='Train')\n",
    "plt.plot(history.history['val_loss'], label='Test')\n",
    "plt.legend()\n",
    "plt.show()"
   ]
  },
  {
   "cell_type": "code",
   "execution_count": 46,
   "id": "25cd3580-d8d5-44dd-9c74-aa384ef2a8a9",
   "metadata": {},
   "outputs": [
    {
     "data": {
      "image/png": "[encoded data removed]",
      "text/plain": [
       "<Figure size 640x480 with 1 Axes>"
      ]
     },
     "metadata": {},
     "output_type": "display_data"
    }
   ],
   "source": [
    "plt.title(\"Mean Absolute Error\")\n",
    "plt.plot(history.history['mae'], label='Train')\n",
    "plt.plot(history.history['val_mae'], label='Test')\n",
    "plt.legend()\n",
    "plt.show()"
   ]
  },
  {
   "cell_type": "code",
   "execution_count": null,
   "id": "41b69995-a4b8-457a-b5b9-0267dadd8f43",
   "metadata": {},
   "outputs": [],
   "source": []
  },
  {
   "cell_type": "code",
   "execution_count": 47,
   "id": "3ddf0081-2cbd-4e1e-840c-6cc64a74bb55",
   "metadata": {},
   "outputs": [],
   "source": [
    "save_model(model, 'model.h5')"
   ]
  },
  {
   "cell_type": "code",
   "execution_count": null,
   "id": "d7146a79-1d5d-4dd2-b309-be5819439369",
   "metadata": {},
   "outputs": [],
   "source": []
  },
  {
   "cell_type": "markdown",
   "id": "38a4558a-9c01-4b2d-81ad-0e9808572174",
   "metadata": {},
   "source": [
    "# Demo"
   ]
  },
  {
   "cell_type": "code",
   "execution_count": 54,
   "id": "0ac8e70d-20be-4fc1-bbf9-55214eb94e7b",
   "metadata": {},
   "outputs": [
    {
     "name": "stderr",
     "output_type": "stream",
     "text": [
      "C:\\Users\\write\\AppData\\Local\\Programs\\Python\\Python310\\lib\\site-packages\\sklearn\\utils\\validation.py:2739: UserWarning: X does not have valid feature names, but StandardScaler was fitted with feature names\n",
      "  warnings.warn(\n"
     ]
    },
    {
     "name": "stdout",
     "output_type": "stream",
     "text": [
      "WARNING:tensorflow:6 out of the last 6 calls to <function Model.make_predict_function.<locals>.predict_function at 0x000002549A1B49D0> triggered tf.function retracing. Tracing is expensive and the excessive number of tracings could be due to (1) creating @tf.function repeatedly in a loop, (2) passing tensors with different shapes, (3) passing Python objects instead of tensors. For (1), please define your @tf.function outside of the loop. For (2), @tf.function has reduce_retracing=True option that can avoid unnecessary retracing. For (3), please refer to https://www.tensorflow.org/guide/function#controlling_retracing and https://www.tensorflow.org/api_docs/python/tf/function for  more details.\n",
      "1/1 [==============================] - 0s 159ms/step\n",
      "Predicted Insurance Cost: $49097.12109375\n"
     ]
    }
   ],
   "source": [
    "import numpy as np\n",
    "import pickle\n",
    "import pandas as pd\n",
    "from tensorflow.keras.models import load_model\n",
    "\n",
    "model = load_model('model.h5')\n",
    "scaler_X = pickle.load(open('scaler_X.pkl', 'rb'))\n",
    "scaler_y = pickle.load(open('scaler_y.pkl', 'rb'))\n",
    "ohe_sex = pickle.load(open('ohe_sex.pkl', 'rb'))\n",
    "ohe_smoke = pickle.load(open('ohe_smoker.pkl', 'rb'))\n",
    "le = pickle.load(open('label.pkl', 'rb'))\n",
    "\n",
    "def predict_insurance(age, sex, bmi, children, smoker, region):\n",
    "    if region not in le.classes_:\n",
    "        raise ValueError(f\"Unknown region '{region}'. Valid options: {list(le.classes_)}\")\n",
    "\n",
    "    sex_encoded = ohe_sex.transform(pd.DataFrame([[sex]], columns=['sex'])).toarray().flatten()\n",
    "    smoker_encoded = ohe_smoke.transform(pd.DataFrame([[smoker]], columns=['smoker'])).toarray().flatten()\n",
    "    region_encoded = le.transform([region])\n",
    "\n",
    "    input_data = np.hstack(([age, bmi, children], sex_encoded, smoker_encoded, region_encoded))\n",
    "\n",
    "    input_scaled = scaler_X.transform([input_data])\n",
    "\n",
    "    prediction_scaled = model.predict(input_scaled)\n",
    "    prediction = scaler_y.inverse_transform(prediction_scaled.reshape(-1, 1))[0][0]\n",
    "\n",
    "    return round(abs(prediction), 2)\n",
    "\n",
    "try:\n",
    "    predicted_cost = predict_insurance(50, 'male', 30.970, 3, 'no', 'northwest')\n",
    "    print(f\"Predicted Insurance Cost: ${predicted_cost}\")\n",
    "except ValueError as e:\n",
    "    print(f\"Error: {e}\")\n"
   ]
  },
  {
   "cell_type": "code",
   "execution_count": null,
   "id": "3ed67e51-8e48-4ccd-92fd-cd46d72f0969",
   "metadata": {},
   "outputs": [],
   "source": []
  }
 ],
 "metadata": {
  "kernelspec": {
   "display_name": "Python 3 (ipykernel)",
   "language": "python",
   "name": "python3"
  },
  "language_info": {
   "codemirror_mode": {
    "name": "ipython",
    "version": 3
   },
   "file_extension": ".py",
   "mimetype": "text/x-python",
   "name": "python",
   "nbconvert_exporter": "python",
   "pygments_lexer": "ipython3",
   "version": "3.10.6"
  }
 },
 "nbformat": 4,
 "nbformat_minor": 5
}
